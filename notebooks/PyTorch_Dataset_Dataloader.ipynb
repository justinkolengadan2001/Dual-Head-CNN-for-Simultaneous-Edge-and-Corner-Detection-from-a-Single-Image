{
 "cells": [
  {
   "cell_type": "raw",
   "id": "c9b7bb33-7b27-4af1-add2-76a82f817a8d",
   "metadata": {},
   "source": [
    "# %pip install torch torchvision"
   ]
  },
  {
   "cell_type": "code",
   "execution_count": null,
   "id": "3e02ed5e-3166-42d8-8d66-1ec03893d46d",
   "metadata": {},
   "outputs": [],
   "source": [
    "import os\n",
    "from PIL import Image\n",
    "from torch.utils.data import Dataset\n",
    "import torchvision.transforms as T\n",
    "import torch\n",
    "\n",
    "class EdgeCornerDataset(Dataset):\n",
    "    def __init__(self, root_dir, transform = None):\n",
    "        self.rgb_dir = os.path.join(root_dir, 'rgb')\n",
    "        self.canny_dir = os.path.join(root_dir, 'canny')\n",
    "        self.harris_dir = os.path.join(root_dir, 'harris')\n",
    "        self.filenames = sorted(os.listdir(self.rgb_dir))\n",
    "        self.transform = transform\n",
    "\n",
    "        self.default_transform = T.Compose([\n",
    "            T.ToTensor(),  # Converts [H, W, C] to [C, H, W] and scales to [0,1]\n",
    "        ])\n",
    "\n",
    "    def __len__(self):\n",
    "        return len(self.filenames)\n",
    "\n",
    "    def __getitem__(self, idx):\n",
    "        file_name = self.filenames[idx]\n",
    "        rgb_path = os.path.join(self.rgb_dir, file_name)\n",
    "        canny_path = os.path.join(self.canny_dir, file_name)\n",
    "        harris_path = os.path.join(self.harris_dir, file_name)\n",
    "\n",
    "        image = Image.open(rgb_path).convert('RGB')\n",
    "        canny = Image.open(canny_path).convert('L')  \n",
    "        harris = Image.open(harris_path).convert('L')\n",
    "\n",
    "        image = self.default_transform(image)\n",
    "        canny = self.default_transform(canny)\n",
    "        harris = self.default_transform(harris)\n",
    "\n",
    "        # Output format:\n",
    "        #   image: [3, H, W]\n",
    "        #   labels: [2, H, W] → channel 0: edge, channel 1: corner\n",
    "        labels = torch.cat([canny, harris], dim = 0)\n",
    "\n",
    "        return image, labels"
   ]
  },
  {
   "cell_type": "code",
   "execution_count": null,
   "id": "baf8ea6c-8c9a-47d0-97e3-f24de5a741db",
   "metadata": {},
   "outputs": [],
   "source": [
    "from torch.utils.data import DataLoader, random_split\n",
    "# sys.path.append(os.path.abspath('..'))  # Adding parent directory to system path\n",
    "from dataset import EdgeCornerDataset\n",
    "\n",
    "dataset = EdgeCornerDataset(root_dir = \"../data/filtered_crops/\")\n",
    "\n",
    "train_size = int(0.8 * len(dataset))\n",
    "val_size = len(dataset) - train_size\n",
    "train_dataset, val_dataset = random_split(dataset, [train_size, val_size])\n",
    "\n",
    "train_loader = DataLoader(train_dataset, batch_size = 4, shuffle = True)\n",
    "val_loader = DataLoader(val_dataset, batch_size = 4)"
   ]
  },
  {
   "cell_type": "code",
   "execution_count": null,
   "id": "d7ada1ae-8b05-462e-8015-6c28f20ffca9",
   "metadata": {},
   "outputs": [],
   "source": [
    "for batch in train_loader:\n",
    "    imgs, labels = batch\n",
    "    print(\"Image shape:\", imgs.shape)       # [B, 3, 512, 512]\n",
    "    print(\"Labels shape:\", labels.shape)    # [B, 2, 512, 512]\n",
    "    break"
   ]
  }
 ],
 "metadata": {
  "kernelspec": {
   "display_name": "Python 3 (ipykernel)",
   "language": "python",
   "name": "python3"
  },
  "language_info": {
   "codemirror_mode": {
    "name": "ipython",
    "version": 3
   },
   "file_extension": ".py",
   "mimetype": "text/x-python",
   "name": "python",
   "nbconvert_exporter": "python",
   "pygments_lexer": "ipython3",
   "version": "3.12.5"
  }
 },
 "nbformat": 4,
 "nbformat_minor": 5
}
