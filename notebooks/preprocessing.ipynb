{
 "cells": [
  {
   "cell_type": "code",
   "execution_count": null,
   "id": "0233d8eb-6c57-41c9-bb66-be40ef9da9f8",
   "metadata": {},
   "outputs": [],
   "source": [
    "import cv2\n",
    "import numpy as np\n",
    "import os\n",
    "\n",
    "crop_size = 512\n",
    "stride = 256\n",
    "threshold_pixels = 512 * 512 * 0.05  # Minimum number of non-zero pixels required\n",
    "\n",
    "image = cv2.imread('../data/original/jcsmr.jpg')\n",
    "grayscale_image = cv2.cvtColor(image, cv2.COLOR_BGR2GRAY)\n",
    "\n",
    "canny_image = cv2.Canny(grayscale_image, 100, 200)\n",
    "harris_image = cv2.cornerHarris(np.float32(grayscale_image), blockSize=2, ksize=3, k=0.04)\n",
    "harris_dilated = cv2.dilate(harris_image, None)\n",
    "harris_binary = (harris_dilated > 0.01 * harris_dilated.max()).astype(np.uint8) * 255\n",
    "\n",
    "def save_crops(image, canny_img, harris_img, prefix=\"crop\"):\n",
    "    h, w = image.shape[:2]\n",
    "    count = 0\n",
    "    skipped = 0\n",
    "\n",
    "    for y in range(0, h - crop_size + 1, stride):\n",
    "        for x in range(0, w - crop_size + 1, stride):\n",
    "            rgb_crop = image[y:y + crop_size, x:x + crop_size]\n",
    "            canny_crop = canny_img[y:y + crop_size, x:x + crop_size]\n",
    "            harris_crop = harris_img[y:y + crop_size, x:x + crop_size]\n",
    "\n",
    "            if np.count_nonzero(canny_crop) < threshold_pixels and np.count_nonzero(harris_crop) < threshold_pixels:\n",
    "                skipped += 1\n",
    "                continue\n",
    "\n",
    "            cv2.imwrite(f\"../data/filtered_crops/rgb/{prefix}_{count}.png\", rgb_crop)\n",
    "            cv2.imwrite(f\"../data/filtered_crops/canny/{prefix}_{count}.png\", canny_crop)\n",
    "            cv2.imwrite(f\"../data/filtered_crops/harris/{prefix}_{count}.png\", harris_crop)\n",
    "\n",
    "            count += 1\n",
    "\n",
    "    print(f\"Saved {count} crops with structure.\")\n",
    "    print(f\"Skipped {skipped} low-information crops.\")\n",
    "\n",
    "os.makedirs(\"../data/filtered_crops/rgb\", exist_ok = True)\n",
    "os.makedirs(\"../data/filtered_crops/canny\", exist_ok = True)\n",
    "os.makedirs(\"../data/filtered_crops/harris\", exist_ok = True)\n",
    "\n",
    "save_crops(image, canny_image, harris_binary)"
   ]
  }
 ],
 "metadata": {
  "kernelspec": {
   "display_name": "Python 3 (ipykernel)",
   "language": "python",
   "name": "python3"
  },
  "language_info": {
   "codemirror_mode": {
    "name": "ipython",
    "version": 3
   },
   "file_extension": ".py",
   "mimetype": "text/x-python",
   "name": "python",
   "nbconvert_exporter": "python",
   "pygments_lexer": "ipython3",
   "version": "3.12.5"
  }
 },
 "nbformat": 4,
 "nbformat_minor": 5
}
